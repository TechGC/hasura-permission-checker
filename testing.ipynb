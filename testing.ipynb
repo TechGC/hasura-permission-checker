{
 "cells": [
  {
   "cell_type": "code",
   "execution_count": 1,
   "id": "a703f6bd",
   "metadata": {
    "ExecuteTime": {
     "end_time": "2024-06-27T23:42:03.725832Z",
     "start_time": "2024-06-27T23:42:03.646744Z"
    }
   },
   "outputs": [
    {
     "data": {
      "text/html": [
       "<style>.container { width:100% !important; }</style>"
      ],
      "text/plain": [
       "<IPython.core.display.HTML object>"
      ]
     },
     "metadata": {},
     "output_type": "display_data"
    }
   ],
   "source": [
    "from hasura_permission_checker.hasura import HasuraParser\n",
    "from hasura_permission_checker.graph import Graph, Node, Edge\n",
    "\n",
    "from IPython.display import display, HTML\n",
    "display(HTML(\"<style>.container { width:100% !important; }</style>\"))\n",
    "\n",
    "%load_ext autoreload\n",
    "%autoreload 2"
   ]
  },
  {
   "cell_type": "code",
   "execution_count": 6,
   "id": "14776d58",
   "metadata": {},
   "outputs": [
    {
     "name": "stdout",
     "output_type": "stream",
     "text": [
      "Skipping edge: unknown table usersUserByRequesterId referenced by community_peerdocumentrequest.\n",
      "Skipping edge: unknown table communityPeernetworkByToPeernetworkId referenced by community_peernetwork_accessible_member_directory_peer_networks.\n",
      "Skipping edge: unknown table listserv_expertcompany_company_types_listserv_expertcompany referenced by listserv_expertcompany_company_types.\n",
      "Skipping edge: unknown table listserv_expertcompany_company_types_listserv_expertcompanytype referenced by listserv_expertcompany_company_types.\n",
      "Skipping edge: unknown table listservMessageByOriginalMessageRepliedId referenced by listserv_message.\n",
      "Skipping edge: unknown table usersUserBySenderId referenced by listserv_message.\n",
      "Skipping edge: unknown table communityPeernetworkByToPeernetworkId referenced by tbl_accessible_discussion_thread_peer_networks.\n",
      "Skipping edge: unknown table communityPeernetworkByToPeernetworkId referenced by tbl_accessible_peer_document_request_thread_peer_networks.\n",
      "Skipping edge: unknown table communityPeernetworkByToPeernetworkId referenced by tbl_accessible_poll_thread_peer_networks.\n",
      "Skipping edge: unknown table communityPeernetworkByToPeernetworkId referenced by tbl_accessible_recommendation_request_thread_peer_networks.\n",
      "removing node Node(listserv_message_mentioned_users, public) connecting Node(listserv_message, public) with Node(users_user, public)\n",
      "removing node Node(listserv_poll_users_viewed_results, public) connecting Node(listserv_poll, public) with Node(users_user, public)\n",
      "removing node Node(community_peerdocument_geographies, public) connecting Node(listserv_geography, public) with Node(community_peerdocument, public)\n",
      "removing node Node(listserv_vendordeal, public) connecting Node(listserv_vendordeal_recommenders, public) with Node(listserv_expertcompany, public)\n",
      "removing node Node(inbox_inboxgroupmember, public) connecting Node(inbox_inboxgroup, public) with Node(users_user, public)\n",
      "removing node Node(events_event_peer_networks, public) connecting Node(community_peernetwork, public) with Node(events_event, public)\n",
      "removing node Node(entity_likeentity, public) connecting Node(entity_entity, public) with Node(users_user, public)\n",
      "removing node Node(listserv_pollvote, public) connecting Node(users_user, public) with Node(listserv_polloption, public)\n",
      "removing node Node(listserv_thread_peer_networks, public) connecting Node(community_peernetwork, public) with Node(listserv_thread, public)\n",
      "removing node Node(events_event_hosts, public) connecting Node(users_user, public) with Node(events_event, public)\n",
      "removing node Node(events_eventvideo_expertise, public) connecting Node(events_eventvideo, public) with Node(listserv_expertise, public)\n",
      "removing node Node(listserv_polloption, public) connecting Node(listserv_poll, public) with Node(users_user, public)\n",
      "removing node Node(listserv_vendordeal_recommenders, public) connecting Node(users_user, public) with Node(listserv_expertcompany, public)\n",
      "removing node Node(listserv_expertise_peer_networks, public) connecting Node(community_peernetwork, public) with Node(listserv_expertise, public)\n",
      "removing node Node(community_peerdocument_peer_networks, public) connecting Node(community_peernetwork, public) with Node(community_peerdocument, public)\n",
      "removing node Node(events_event_sponsors, public) connecting Node(listserv_expertcompany, public) with Node(events_event, public)\n",
      "removing node Node(listserv_thread_geographies, public) connecting Node(listserv_geography, public) with Node(listserv_thread, public)\n",
      "removing node Node(listserv_expertrecommendation_peer_networks, public) connecting Node(community_peernetwork, public) with Node(listserv_expertrecommendation, public)\n",
      "removing node Node(listserv_thread_areas_of_expertise, public) connecting Node(listserv_expertise, public) with Node(listserv_thread, public)\n",
      "removing node Node(events_eventdocument_expertise, public) connecting Node(listserv_expertise, public) with Node(events_eventdocument, public)\n",
      "removing node Node(events_event_speakers, public) connecting Node(events_event, public) with Node(events_eventspeaker, public)\n",
      "removing node Node(community_peerdocument_fulfills_requests, public) connecting Node(community_peerdocumentrequest, public) with Node(community_peerdocument, public)\n",
      "removing node Node(events_eventvideo_speakers, public) connecting Node(events_eventvideo, public) with Node(events_eventspeaker, public)\n",
      "removing node Node(community_peerdocument_topics, public) connecting Node(listserv_expertise, public) with Node(community_peerdocument, public)\n"
     ]
    }
   ],
   "source": [
    "h = HasuraParser()\n",
    "g = h.generate_graph(\"./metadata/graph.json\", \"public\")\n",
    "_ = g.prune()"
   ]
  },
  {
   "cell_type": "code",
   "execution_count": 4,
   "id": "288cde8c-b2ee-46f8-b905-97bcc457a06b",
   "metadata": {},
   "outputs": [],
   "source": [
    "net = g.show()\n",
    "net.write_html(\"index.html\", open_browser=True)"
   ]
  },
  {
   "cell_type": "code",
   "execution_count": 7,
   "id": "05288b0d-b623-4f09-946a-dc6aaf16e309",
   "metadata": {},
   "outputs": [
    {
     "name": "stdout",
     "output_type": "stream",
     "text": [
      "Skipping edge: unknown table communityPeernetworkByToPeernetworkId referenced by community_peernetwork_accessible_event_peer_networks.\n",
      "Skipping edge: unknown table communityPeernetworkByToPeernetworkId referenced by community_peernetwork_accessible_member_directory_peer_networks.\n",
      "Skipping edge: unknown table communityPeernetworkByToPeernetworkId referenced by community_peernetwork_accessible_peer_document_peer_networks.\n",
      "Skipping edge: unknown table listservMessageByOriginalMessageRepliedId referenced by listserv_message.\n",
      "Skipping edge: unknown table usersUserBySenderId referenced by listserv_message.\n",
      "Skipping edge: unknown table communityPeernetworkByToPeernetworkId referenced by tbl_accessible_discussion_thread_peer_networks.\n",
      "Skipping edge: unknown table communityPeernetworkByToPeernetworkId referenced by tbl_accessible_peer_document_request_thread_peer_networks.\n",
      "Skipping edge: unknown table communityPeernetworkByToPeernetworkId referenced by tbl_accessible_poll_thread_peer_networks.\n",
      "Skipping edge: unknown table communityPeernetworkByToPeernetworkId referenced by tbl_accessible_recommendation_request_thread_peer_networks.\n",
      "Skipping edge: unknown table communityPeernetworkByToPeernetworkId referenced by tbl_peer_networks_to_create_discussion_threads_in.\n",
      "Skipping edge: unknown table communityPeernetworkByToPeernetworkId referenced by tbl_peer_networks_to_create_peer_document_request_threads_in.\n",
      "Skipping edge: unknown table communityPeernetworkByToPeernetworkId referenced by tbl_peer_networks_to_create_poll_threads_in.\n",
      "Skipping edge: unknown table communityPeernetworkByToPeernetworkId referenced by tbl_peer_networks_to_create_recommendation_request_threads_in.\n",
      "removing node Node(listserv_message_mentioned_users, private) connecting Node(listserv_message, private) with Node(users_user, private)\n",
      "removing node Node(listserv_poll_users_viewed_results, private) connecting Node(listserv_poll, private) with Node(users_user, private)\n",
      "removing node Node(entity_likeentity, private) connecting Node(entity_entity, private) with Node(users_user, private)\n",
      "removing node Node(listserv_pollvote, private) connecting Node(users_user, private) with Node(listserv_polloption, private)\n",
      "removing node Node(listserv_polloption, private) connecting Node(listserv_poll, private) with Node(users_user, private)\n"
     ]
    }
   ],
   "source": [
    "h2 = HasuraParser()\n",
    "g2 = h2.generate_graph(\"./metadata/graph.json\", \"private\")\n",
    "_ = g2.prune()\n",
    "net = g2.show()\n",
    "net.write_html(\"index2.html\", open_browser=True)"
   ]
  },
  {
   "cell_type": "code",
   "execution_count": null,
   "id": "6cda60fa-5842-4ab7-84a1-0acbba19002b",
   "metadata": {},
   "outputs": [],
   "source": []
  }
 ],
 "metadata": {
  "kernelspec": {
   "display_name": "Python 3 (ipykernel)",
   "language": "python",
   "name": "python3"
  },
  "language_info": {
   "codemirror_mode": {
    "name": "ipython",
    "version": 3
   },
   "file_extension": ".py",
   "mimetype": "text/x-python",
   "name": "python",
   "nbconvert_exporter": "python",
   "pygments_lexer": "ipython3",
   "version": "3.12.3"
  }
 },
 "nbformat": 4,
 "nbformat_minor": 5
}
