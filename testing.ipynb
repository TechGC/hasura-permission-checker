{
 "cells": [
  {
   "cell_type": "code",
   "execution_count": 1,
   "id": "a703f6bd",
   "metadata": {
    "ExecuteTime": {
     "end_time": "2024-06-27T23:42:03.725832Z",
     "start_time": "2024-06-27T23:42:03.646744Z"
    }
   },
   "outputs": [
    {
     "data": {
      "text/html": [
       "<style>.container { width:100% !important; }</style>"
      ],
      "text/plain": [
       "<IPython.core.display.HTML object>"
      ]
     },
     "metadata": {},
     "output_type": "display_data"
    }
   ],
   "source": [
    "from hasura_permission_checker.hasura import HasuraParser\n",
    "from hasura_permission_checker.graph import Graph, Node, Edge\n",
    "\n",
    "from IPython.display import display, HTML\n",
    "display(HTML(\"<style>.container { width:100% !important; }</style>\"))\n",
    "\n",
    "%load_ext autoreload\n",
    "%autoreload 2"
   ]
  },
  {
   "cell_type": "code",
   "execution_count": 2,
   "id": "14776d58",
   "metadata": {},
   "outputs": [
    {
     "name": "stdout",
     "output_type": "stream",
     "text": [
      "Ignoring invalid array relationship: community_peerdocumentrequest -> usersUserByRequesterId\n",
      "Ignoring invalid array relationship: community_peernetwork_accessible_event_peer_networks -> communityPeernetworkByToPeernetworkId\n",
      "Ignoring invalid array relationship: community_peernetwork_accessible_member_directory_peer_networks -> communityPeernetworkByToPeernetworkId\n",
      "Ignoring invalid array relationship: community_peernetwork_accessible_peer_document_peer_networks -> communityPeernetworkByToPeernetworkId\n",
      "Ignoring invalid array relationship: listserv_expertcompany_company_types -> listserv_expertcompany_company_types_listserv_expertcompany\n",
      "Ignoring invalid array relationship: listserv_expertcompany_company_types -> listserv_expertcompany_company_types_listserv_expertcompanytype\n",
      "Ignoring invalid array relationship: listserv_message -> listservMessageByOriginalMessageRepliedId\n",
      "Ignoring invalid array relationship: listserv_message -> usersUserBySenderId\n",
      "Ignoring invalid array relationship: tbl_accessible_discussion_thread_peer_networks -> communityPeernetworkByToPeernetworkId\n",
      "Ignoring invalid array relationship: tbl_accessible_peer_document_request_thread_peer_networks -> communityPeernetworkByToPeernetworkId\n",
      "Ignoring invalid array relationship: tbl_accessible_poll_thread_peer_networks -> communityPeernetworkByToPeernetworkId\n",
      "Ignoring invalid array relationship: tbl_accessible_recommendation_request_thread_peer_networks -> communityPeernetworkByToPeernetworkId\n",
      "Ignoring invalid array relationship: tbl_peer_networks_to_create_discussion_threads_in -> communityPeernetworkByToPeernetworkId\n",
      "Ignoring invalid array relationship: tbl_peer_networks_to_create_peer_document_request_threads_in -> communityPeernetworkByToPeernetworkId\n",
      "Ignoring invalid array relationship: tbl_peer_networks_to_create_poll_threads_in -> communityPeernetworkByToPeernetworkId\n",
      "Ignoring invalid array relationship: tbl_peer_networks_to_create_recommendation_request_threads_in -> communityPeernetworkByToPeernetworkId\n",
      "Ignoring invalid array relationship: tbl_peer_networks_to_notify_from_discussion_threads -> communityPeernetworkByToPeernetworkId\n",
      "Ignoring invalid array relationship: tbl_peer_networks_to_notify_from_peer_document_request_threads -> communityPeernetworkByToPeernetworkId\n",
      "Ignoring invalid array relationship: tbl_peer_networks_to_notify_from_poll_threads -> communityPeernetworkByToPeernetworkId\n",
      "Ignoring invalid array relationship: tbl_peer_networks_to_notify_from_recommendation_request_threads -> communityPeernetworkByToPeernetworkId\n",
      "Ignoring invalid array relationship: users_nominateduser -> usersUserByNomineeId\n",
      "Ignoring invalid array relationship: users_privatemessage -> usersUserBySenderId\n",
      "Ignoring invalid array relationship: users_recentconversation -> usersUserByUserId\n",
      "Ignoring invalid array relationship: users_viewmember -> usersUserByViewerId\n",
      "removing node Node(2, announcement_announcement_peer_networks) connecting Node(1, announcement_announcement) with Node(27, community_peernetwork)\n",
      "removing node Node(4, auth_group_permissions) connecting Node(3, auth_group) with Node(5, auth_permission)\n",
      "removing node Node(22, community_peerdocument_fulfills_requests) connecting Node(26, community_peerdocumentrequest) with Node(21, community_peerdocument)\n",
      "removing node Node(23, community_peerdocument_geographies) connecting Node(21, community_peerdocument) with Node(78, listserv_geography)\n",
      "removing node Node(24, community_peerdocument_peer_networks) connecting Node(27, community_peernetwork) with Node(21, community_peerdocument)\n",
      "removing node Node(25, community_peerdocument_topics) connecting Node(72, listserv_expertise) with Node(21, community_peerdocument)\n",
      "removing node Node(32, django_admin_log) connecting Node(33, django_content_type) with Node(166, users_user)\n",
      "removing node Node(38, entity_likeentity) connecting Node(37, entity_entity) with Node(166, users_user)\n",
      "removing node Node(40, events_event_hosts) connecting Node(166, users_user) with Node(39, events_event)\n",
      "removing node Node(41, events_event_peer_networks) connecting Node(27, community_peernetwork) with Node(39, events_event)\n",
      "removing node Node(42, events_event_speakers) connecting Node(52, events_eventspeaker) with Node(39, events_event)\n",
      "removing node Node(43, events_event_sponsors) connecting Node(67, listserv_expertcompany) with Node(39, events_event)\n",
      "removing node Node(47, events_eventdocument_expertise) connecting Node(72, listserv_expertise) with Node(46, events_eventdocument)\n",
      "removing node Node(54, events_eventvideo_expertise) connecting Node(72, listserv_expertise) with Node(53, events_eventvideo)\n",
      "removing node Node(55, events_eventvideo_speakers) connecting Node(52, events_eventspeaker) with Node(53, events_eventvideo)\n",
      "removing node Node(58, gamification_userbadge) connecting Node(57, gamification_badge) with Node(166, users_user)\n",
      "removing node Node(61, inbox_inboxgroupmember) connecting Node(60, inbox_inboxgroup) with Node(166, users_user)\n",
      "removing node Node(64, listserv_attachment) connecting Node(80, listserv_message) with Node(79, listserv_inboundmessage)\n",
      "removing node Node(69, listserv_expertcompany_industries) connecting Node(67, listserv_expertcompany) with Node(147, users_industry)\n",
      "removing node Node(73, listserv_expertise_peer_networks) connecting Node(72, listserv_expertise) with Node(27, community_peernetwork)\n",
      "removing node Node(77, listserv_expertrecommendation_peer_networks) connecting Node(27, community_peernetwork) with Node(76, listserv_expertrecommendation)\n",
      "removing node Node(81, listserv_message_mentioned_users) connecting Node(80, listserv_message) with Node(166, users_user)\n",
      "removing node Node(89, listserv_outboundemail) connecting Node(80, listserv_message) with Node(166, users_user)\n",
      "removing node Node(91, listserv_poll_users_viewed_results) connecting Node(90, listserv_poll) with Node(166, users_user)\n",
      "removing node Node(92, listserv_polloption) connecting Node(90, listserv_poll) with Node(94, listserv_pollvote)\n",
      "removing node Node(94, listserv_pollvote) connecting Node(90, listserv_poll) with Node(166, users_user)\n",
      "removing node Node(97, listserv_thread_areas_of_expertise) connecting Node(96, listserv_thread) with Node(72, listserv_expertise)\n",
      "removing node Node(98, listserv_thread_company_sizes) connecting Node(96, listserv_thread) with Node(65, listserv_companysize)\n",
      "removing node Node(99, listserv_thread_geographies) connecting Node(96, listserv_thread) with Node(78, listserv_geography)\n",
      "removing node Node(100, listserv_thread_peer_networks) connecting Node(96, listserv_thread) with Node(27, community_peernetwork)\n",
      "removing node Node(101, listserv_thread_peer_networks_notified) connecting Node(96, listserv_thread) with Node(27, community_peernetwork)\n",
      "removing node Node(102, listserv_thread_prices) connecting Node(96, listserv_thread) with Node(95, listserv_price)\n",
      "removing node Node(104, listserv_trackedemail) connecting Node(80, listserv_message) with Node(166, users_user)\n",
      "removing node Node(105, listserv_userdigest) connecting Node(80, listserv_message) with Node(166, users_user)\n",
      "removing node Node(107, listserv_vendordeal_areas_of_expertise) connecting Node(72, listserv_expertise) with Node(106, listserv_vendordeal)\n",
      "removing node Node(108, listserv_vendordeal_disciplines) connecting Node(106, listserv_vendordeal) with Node(19, community_discipline)\n",
      "removing node Node(109, listserv_vendordeal_peer_networks) connecting Node(106, listserv_vendordeal) with Node(27, community_peernetwork)\n",
      "removing node Node(110, listserv_vendordeal_recommenders) connecting Node(106, listserv_vendordeal) with Node(166, users_user)\n",
      "removing node Node(114, taggit_taggeditem) connecting Node(33, django_content_type) with Node(113, taggit_tag)\n",
      "removing node Node(158, users_privatemessage) connecting Node(166, users_user) with Node(159, users_recentconversation)\n",
      "removing node Node(164, users_teamfeature) connecting Node(145, users_feature) with Node(163, users_team)\n",
      "removing node Node(176, users_userteamauditlog) connecting Node(163, users_team) with Node(166, users_user)\n",
      "removing node Node(177, users_viewevent) connecting Node(166, users_user) with Node(39, events_event)\n",
      "removing node Node(179, users_viewpeerdocument) connecting Node(21, community_peerdocument) with Node(166, users_user)\n",
      "removing node Node(180, users_viewthread) connecting Node(96, listserv_thread) with Node(166, users_user)\n",
      "removing isolated node Node(20, community_inboundmessagedomainalias)\n",
      "removing isolated node Node(31, constance_constance)\n",
      "removing isolated node Node(34, django_migrations)\n",
      "removing isolated node Node(35, django_session)\n",
      "removing isolated node Node(36, django_site)\n",
      "removing isolated node Node(63, infrastructure_redirect)\n",
      "removing isolated node Node(112, sr_report)\n",
      "removing isolated node Node(129, userdata_datafile)\n",
      "removing isolated node Node(160, users_role)\n"
     ]
    }
   ],
   "source": [
    "h = HasuraParser()\n",
    "g = h.generate_graph(\"./metadata/graph.json\")\n",
    "g.prune()\n",
    "net = h.visualize_graph(g)\n",
    "net.write_html(\"/tmp/index.html\", open_browser=True)\n",
    "#net.show(\"index.html\", notebook=True)\n"
   ]
  },
  {
   "cell_type": "code",
   "execution_count": null,
   "id": "04f1025c",
   "metadata": {},
   "outputs": [],
   "source": []
  }
 ],
 "metadata": {
  "kernelspec": {
   "display_name": "Python 3 (ipykernel)",
   "language": "python",
   "name": "python3"
  },
  "language_info": {
   "codemirror_mode": {
    "name": "ipython",
    "version": 3
   },
   "file_extension": ".py",
   "mimetype": "text/x-python",
   "name": "python",
   "nbconvert_exporter": "python",
   "pygments_lexer": "ipython3",
   "version": "3.12.3"
  }
 },
 "nbformat": 4,
 "nbformat_minor": 5
}
