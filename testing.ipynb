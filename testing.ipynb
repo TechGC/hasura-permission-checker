{
 "cells": [
  {
   "cell_type": "code",
   "execution_count": null,
   "id": "a703f6bd",
   "metadata": {
    "ExecuteTime": {
     "end_time": "2024-06-27T23:42:03.725832Z",
     "start_time": "2024-06-27T23:42:03.646744Z"
    }
   },
   "outputs": [],
   "source": [
    "from hasura_permission_checker.hasura import HasuraParser\n",
    "from hasura_permission_checker.graph import Graph, Node, Edge\n",
    "\n",
    "from IPython.display import display, HTML\n",
    "display(HTML(\"<style>.container { width:100% !important; }</style>\"))\n",
    "\n",
    "%load_ext autoreload\n",
    "%autoreload 2"
   ]
  },
  {
   "cell_type": "code",
   "execution_count": null,
   "id": "14776d58",
   "metadata": {},
   "outputs": [],
   "source": [
    "h = HasuraParser()\n",
    "g = h.generate_graph(\"./metadata/graph.json\")\n",
    "g.prune()\n",
    "net = g.show()\n",
    "#net.write_html(\"/tmp/index.html\", open_browser=True)\n",
    "net.show(\"index.html\", notebook=True)\n"
   ]
  },
  {
   "cell_type": "code",
   "execution_count": null,
   "id": "04f1025c",
   "metadata": {},
   "outputs": [],
   "source": []
  }
 ],
 "metadata": {
  "kernelspec": {
   "display_name": "Python 3 (ipykernel)",
   "language": "python",
   "name": "python3"
  },
  "language_info": {
   "codemirror_mode": {
    "name": "ipython",
    "version": 3
   },
   "file_extension": ".py",
   "mimetype": "text/x-python",
   "name": "python",
   "nbconvert_exporter": "python",
   "pygments_lexer": "ipython3",
   "version": "3.12.3"
  }
 },
 "nbformat": 4,
 "nbformat_minor": 5
}
